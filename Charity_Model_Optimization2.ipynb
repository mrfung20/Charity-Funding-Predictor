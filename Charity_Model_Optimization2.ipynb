{
 "cells": [
  {
   "cell_type": "markdown",
   "metadata": {
    "id": "QQCYrFxIIu0v"
   },
   "source": [
    "## Preprocessing"
   ]
  },
  {
   "cell_type": "code",
   "execution_count": 3,
   "metadata": {
    "colab": {
     "base_uri": "https://localhost:8080/",
     "height": 204
    },
    "id": "6vA2dtZCIu0z",
    "outputId": "bba96219-3705-4e41-dbbb-631f5868b486"
   },
   "outputs": [
    {
     "data": {
      "text/html": [
       "<div>\n",
       "<style scoped>\n",
       "    .dataframe tbody tr th:only-of-type {\n",
       "        vertical-align: middle;\n",
       "    }\n",
       "\n",
       "    .dataframe tbody tr th {\n",
       "        vertical-align: top;\n",
       "    }\n",
       "\n",
       "    .dataframe thead th {\n",
       "        text-align: right;\n",
       "    }\n",
       "</style>\n",
       "<table border=\"1\" class=\"dataframe\">\n",
       "  <thead>\n",
       "    <tr style=\"text-align: right;\">\n",
       "      <th></th>\n",
       "      <th>EIN</th>\n",
       "      <th>NAME</th>\n",
       "      <th>APPLICATION_TYPE</th>\n",
       "      <th>AFFILIATION</th>\n",
       "      <th>CLASSIFICATION</th>\n",
       "      <th>USE_CASE</th>\n",
       "      <th>ORGANIZATION</th>\n",
       "      <th>STATUS</th>\n",
       "      <th>INCOME_AMT</th>\n",
       "      <th>SPECIAL_CONSIDERATIONS</th>\n",
       "      <th>ASK_AMT</th>\n",
       "      <th>IS_SUCCESSFUL</th>\n",
       "    </tr>\n",
       "  </thead>\n",
       "  <tbody>\n",
       "    <tr>\n",
       "      <th>0</th>\n",
       "      <td>10520599</td>\n",
       "      <td>BLUE KNIGHTS MOTORCYCLE CLUB</td>\n",
       "      <td>T10</td>\n",
       "      <td>Independent</td>\n",
       "      <td>C1000</td>\n",
       "      <td>ProductDev</td>\n",
       "      <td>Association</td>\n",
       "      <td>1</td>\n",
       "      <td>0</td>\n",
       "      <td>N</td>\n",
       "      <td>5000</td>\n",
       "      <td>1</td>\n",
       "    </tr>\n",
       "    <tr>\n",
       "      <th>1</th>\n",
       "      <td>10531628</td>\n",
       "      <td>AMERICAN CHESAPEAKE CLUB CHARITABLE TR</td>\n",
       "      <td>T3</td>\n",
       "      <td>Independent</td>\n",
       "      <td>C2000</td>\n",
       "      <td>Preservation</td>\n",
       "      <td>Co-operative</td>\n",
       "      <td>1</td>\n",
       "      <td>1-9999</td>\n",
       "      <td>N</td>\n",
       "      <td>108590</td>\n",
       "      <td>1</td>\n",
       "    </tr>\n",
       "    <tr>\n",
       "      <th>2</th>\n",
       "      <td>10547893</td>\n",
       "      <td>ST CLOUD PROFESSIONAL FIREFIGHTERS</td>\n",
       "      <td>T5</td>\n",
       "      <td>CompanySponsored</td>\n",
       "      <td>C3000</td>\n",
       "      <td>ProductDev</td>\n",
       "      <td>Association</td>\n",
       "      <td>1</td>\n",
       "      <td>0</td>\n",
       "      <td>N</td>\n",
       "      <td>5000</td>\n",
       "      <td>0</td>\n",
       "    </tr>\n",
       "    <tr>\n",
       "      <th>3</th>\n",
       "      <td>10553066</td>\n",
       "      <td>SOUTHSIDE ATHLETIC ASSOCIATION</td>\n",
       "      <td>T3</td>\n",
       "      <td>CompanySponsored</td>\n",
       "      <td>C2000</td>\n",
       "      <td>Preservation</td>\n",
       "      <td>Trust</td>\n",
       "      <td>1</td>\n",
       "      <td>10000-24999</td>\n",
       "      <td>N</td>\n",
       "      <td>6692</td>\n",
       "      <td>1</td>\n",
       "    </tr>\n",
       "    <tr>\n",
       "      <th>4</th>\n",
       "      <td>10556103</td>\n",
       "      <td>GENETIC RESEARCH INSTITUTE OF THE DESERT</td>\n",
       "      <td>T3</td>\n",
       "      <td>Independent</td>\n",
       "      <td>C1000</td>\n",
       "      <td>Heathcare</td>\n",
       "      <td>Trust</td>\n",
       "      <td>1</td>\n",
       "      <td>100000-499999</td>\n",
       "      <td>N</td>\n",
       "      <td>142590</td>\n",
       "      <td>1</td>\n",
       "    </tr>\n",
       "  </tbody>\n",
       "</table>\n",
       "</div>"
      ],
      "text/plain": [
       "        EIN                                      NAME APPLICATION_TYPE  \\\n",
       "0  10520599              BLUE KNIGHTS MOTORCYCLE CLUB              T10   \n",
       "1  10531628    AMERICAN CHESAPEAKE CLUB CHARITABLE TR               T3   \n",
       "2  10547893        ST CLOUD PROFESSIONAL FIREFIGHTERS               T5   \n",
       "3  10553066            SOUTHSIDE ATHLETIC ASSOCIATION               T3   \n",
       "4  10556103  GENETIC RESEARCH INSTITUTE OF THE DESERT               T3   \n",
       "\n",
       "        AFFILIATION CLASSIFICATION      USE_CASE  ORGANIZATION  STATUS  \\\n",
       "0       Independent          C1000    ProductDev   Association       1   \n",
       "1       Independent          C2000  Preservation  Co-operative       1   \n",
       "2  CompanySponsored          C3000    ProductDev   Association       1   \n",
       "3  CompanySponsored          C2000  Preservation         Trust       1   \n",
       "4       Independent          C1000     Heathcare         Trust       1   \n",
       "\n",
       "      INCOME_AMT SPECIAL_CONSIDERATIONS  ASK_AMT  IS_SUCCESSFUL  \n",
       "0              0                      N     5000              1  \n",
       "1         1-9999                      N   108590              1  \n",
       "2              0                      N     5000              0  \n",
       "3    10000-24999                      N     6692              1  \n",
       "4  100000-499999                      N   142590              1  "
      ]
     },
     "execution_count": 3,
     "metadata": {},
     "output_type": "execute_result"
    }
   ],
   "source": [
    "# Import our dependencies\n",
    "from sklearn.model_selection import train_test_split\n",
    "from sklearn.preprocessing import StandardScaler\n",
    "import pandas as pd\n",
    "import tensorflow as tf\n",
    "import tensorflow\n",
    "\n",
    "\n",
    "\n",
    "#  Import and read the charity_data.csv.\n",
    "import pandas as pd \n",
    "application_df = pd.read_csv('../Resources/charity_data.csv')\n",
    "application_df.head()"
   ]
  },
  {
   "cell_type": "code",
   "execution_count": 4,
   "metadata": {
    "colab": {
     "base_uri": "https://localhost:8080/",
     "height": 204
    },
    "id": "mfrKdCZNIu01",
    "outputId": "23e0ee3a-cfbb-47d8-8ebe-ec8c989bf009"
   },
   "outputs": [
    {
     "data": {
      "text/html": [
       "<div>\n",
       "<style scoped>\n",
       "    .dataframe tbody tr th:only-of-type {\n",
       "        vertical-align: middle;\n",
       "    }\n",
       "\n",
       "    .dataframe tbody tr th {\n",
       "        vertical-align: top;\n",
       "    }\n",
       "\n",
       "    .dataframe thead th {\n",
       "        text-align: right;\n",
       "    }\n",
       "</style>\n",
       "<table border=\"1\" class=\"dataframe\">\n",
       "  <thead>\n",
       "    <tr style=\"text-align: right;\">\n",
       "      <th></th>\n",
       "      <th>APPLICATION_TYPE</th>\n",
       "      <th>AFFILIATION</th>\n",
       "      <th>CLASSIFICATION</th>\n",
       "      <th>USE_CASE</th>\n",
       "      <th>ORGANIZATION</th>\n",
       "      <th>STATUS</th>\n",
       "      <th>INCOME_AMT</th>\n",
       "      <th>SPECIAL_CONSIDERATIONS</th>\n",
       "      <th>ASK_AMT</th>\n",
       "      <th>IS_SUCCESSFUL</th>\n",
       "    </tr>\n",
       "  </thead>\n",
       "  <tbody>\n",
       "    <tr>\n",
       "      <th>0</th>\n",
       "      <td>T10</td>\n",
       "      <td>Independent</td>\n",
       "      <td>C1000</td>\n",
       "      <td>ProductDev</td>\n",
       "      <td>Association</td>\n",
       "      <td>1</td>\n",
       "      <td>0</td>\n",
       "      <td>N</td>\n",
       "      <td>5000</td>\n",
       "      <td>1</td>\n",
       "    </tr>\n",
       "    <tr>\n",
       "      <th>1</th>\n",
       "      <td>T3</td>\n",
       "      <td>Independent</td>\n",
       "      <td>C2000</td>\n",
       "      <td>Preservation</td>\n",
       "      <td>Co-operative</td>\n",
       "      <td>1</td>\n",
       "      <td>1-9999</td>\n",
       "      <td>N</td>\n",
       "      <td>108590</td>\n",
       "      <td>1</td>\n",
       "    </tr>\n",
       "    <tr>\n",
       "      <th>2</th>\n",
       "      <td>T5</td>\n",
       "      <td>CompanySponsored</td>\n",
       "      <td>C3000</td>\n",
       "      <td>ProductDev</td>\n",
       "      <td>Association</td>\n",
       "      <td>1</td>\n",
       "      <td>0</td>\n",
       "      <td>N</td>\n",
       "      <td>5000</td>\n",
       "      <td>0</td>\n",
       "    </tr>\n",
       "    <tr>\n",
       "      <th>3</th>\n",
       "      <td>T3</td>\n",
       "      <td>CompanySponsored</td>\n",
       "      <td>C2000</td>\n",
       "      <td>Preservation</td>\n",
       "      <td>Trust</td>\n",
       "      <td>1</td>\n",
       "      <td>10000-24999</td>\n",
       "      <td>N</td>\n",
       "      <td>6692</td>\n",
       "      <td>1</td>\n",
       "    </tr>\n",
       "    <tr>\n",
       "      <th>4</th>\n",
       "      <td>T3</td>\n",
       "      <td>Independent</td>\n",
       "      <td>C1000</td>\n",
       "      <td>Heathcare</td>\n",
       "      <td>Trust</td>\n",
       "      <td>1</td>\n",
       "      <td>100000-499999</td>\n",
       "      <td>N</td>\n",
       "      <td>142590</td>\n",
       "      <td>1</td>\n",
       "    </tr>\n",
       "  </tbody>\n",
       "</table>\n",
       "</div>"
      ],
      "text/plain": [
       "  APPLICATION_TYPE       AFFILIATION CLASSIFICATION      USE_CASE  \\\n",
       "0              T10       Independent          C1000    ProductDev   \n",
       "1               T3       Independent          C2000  Preservation   \n",
       "2               T5  CompanySponsored          C3000    ProductDev   \n",
       "3               T3  CompanySponsored          C2000  Preservation   \n",
       "4               T3       Independent          C1000     Heathcare   \n",
       "\n",
       "   ORGANIZATION  STATUS     INCOME_AMT SPECIAL_CONSIDERATIONS  ASK_AMT  \\\n",
       "0   Association       1              0                      N     5000   \n",
       "1  Co-operative       1         1-9999                      N   108590   \n",
       "2   Association       1              0                      N     5000   \n",
       "3         Trust       1    10000-24999                      N     6692   \n",
       "4         Trust       1  100000-499999                      N   142590   \n",
       "\n",
       "   IS_SUCCESSFUL  \n",
       "0              1  \n",
       "1              1  \n",
       "2              0  \n",
       "3              1  \n",
       "4              1  "
      ]
     },
     "execution_count": 4,
     "metadata": {},
     "output_type": "execute_result"
    }
   ],
   "source": [
    "# Drop the non-beneficial ID columns, 'EIN' and 'NAME'.\n",
    "application_df1 = application_df.drop(['EIN','NAME'],axis=1)\n",
    "application_df1.head()"
   ]
  },
  {
   "cell_type": "code",
   "execution_count": 5,
   "metadata": {
    "colab": {
     "base_uri": "https://localhost:8080/"
    },
    "id": "QPmJc-3DIu01",
    "outputId": "6d7bbf06-e77a-41c3-9f90-694202c60a46"
   },
   "outputs": [
    {
     "data": {
      "text/plain": [
       "APPLICATION_TYPE            17\n",
       "AFFILIATION                  6\n",
       "CLASSIFICATION              71\n",
       "USE_CASE                     5\n",
       "ORGANIZATION                 4\n",
       "STATUS                       2\n",
       "INCOME_AMT                   9\n",
       "SPECIAL_CONSIDERATIONS       2\n",
       "ASK_AMT                   8747\n",
       "IS_SUCCESSFUL                2\n",
       "dtype: int64"
      ]
     },
     "execution_count": 5,
     "metadata": {},
     "output_type": "execute_result"
    }
   ],
   "source": [
    "# Determine the number of unique values in each column.\n",
    "application_df1.apply(pd.Series.nunique)"
   ]
  },
  {
   "cell_type": "code",
   "execution_count": null,
   "metadata": {
    "id": "6bQsG8baNjp5"
   },
   "outputs": [],
   "source": []
  },
  {
   "cell_type": "code",
   "execution_count": 6,
   "metadata": {
    "colab": {
     "base_uri": "https://localhost:8080/"
    },
    "id": "wha_rPtCIu02",
    "outputId": "326cf63d-ff43-4419-91c0-58ee26012c22"
   },
   "outputs": [
    {
     "data": {
      "text/plain": [
       "T3     27037\n",
       "T4      1542\n",
       "T6      1216\n",
       "T5      1173\n",
       "T19     1065\n",
       "T8       737\n",
       "T7       725\n",
       "T10      528\n",
       "T9       156\n",
       "T13       66\n",
       "T12       27\n",
       "T2        16\n",
       "T14        3\n",
       "T25        3\n",
       "T29        2\n",
       "T15        2\n",
       "T17        1\n",
       "Name: APPLICATION_TYPE, dtype: int64"
      ]
     },
     "execution_count": 6,
     "metadata": {},
     "output_type": "execute_result"
    }
   ],
   "source": [
    "# Look at APPLICATION_TYPE value counts for binning\n",
    "application_df1['APPLICATION_TYPE'].value_counts()\n"
   ]
  },
  {
   "cell_type": "code",
   "execution_count": 7,
   "metadata": {
    "colab": {
     "base_uri": "https://localhost:8080/"
    },
    "id": "a4IvLqcwIu02",
    "outputId": "f16d3308-7839-402c-a0bc-e528356d78d2"
   },
   "outputs": [
    {
     "data": {
      "text/plain": [
       "T3       27037\n",
       "T4        1542\n",
       "T6        1216\n",
       "T5        1173\n",
       "T19       1065\n",
       "T8         737\n",
       "T7         725\n",
       "T10        528\n",
       "T9         156\n",
       "Other      120\n",
       "Name: APPLICATION_TYPE, dtype: int64"
      ]
     },
     "execution_count": 7,
     "metadata": {},
     "output_type": "execute_result"
    }
   ],
   "source": [
    "# Choose a cutoff value and create a list of application types to be replaced\n",
    "# use the variable name `application_types_to_replace`\n",
    "#  Cutoff value will be 1% of the data set which is ~ 330 \n",
    "cutoff = 330\n",
    "application_types_to_replace = ['T13','T12','T2','T14','T25','T29','T15','T17']\n",
    "\n",
    "\n",
    "# Replace in dataframe\n",
    "for app in application_types_to_replace:\n",
    "    application_df1['APPLICATION_TYPE'] = application_df1['APPLICATION_TYPE'].replace(app,\"Other\")\n",
    "\n",
    "# Check to make sure binning was successful\n",
    "application_df1['APPLICATION_TYPE'].value_counts()"
   ]
  },
  {
   "cell_type": "code",
   "execution_count": 8,
   "metadata": {
    "colab": {
     "base_uri": "https://localhost:8080/"
    },
    "id": "gnIFThtWIu03",
    "outputId": "143b4719-4007-4d7a-edba-0e5e10900d60"
   },
   "outputs": [
    {
     "name": "stdout",
     "output_type": "stream",
     "text": [
      "Index(['C1000', 'C2000', 'C1200', 'C3000', 'C2100', 'C7000', 'C1700', 'C4000',\n",
      "       'C5000', 'C1270', 'C2700', 'C2800', 'C7100', 'C1300', 'C1280', 'C1230',\n",
      "       'C1400', 'C7200', 'C2300', 'C1240', 'C8000', 'C7120', 'C1500', 'C6000',\n",
      "       'C1800', 'C1250', 'C8200', 'C1238', 'C1278', 'C1237', 'C1235', 'C7210',\n",
      "       'C1720', 'C4100', 'C2400', 'C1257', 'C1600', 'C2710', 'C1260', 'C0',\n",
      "       'C1256', 'C1267', 'C1246', 'C3200', 'C1234', 'C4500', 'C2600', 'C2190',\n",
      "       'C2150', 'C1283', 'C2170', 'C1248', 'C4200', 'C5200', 'C2380', 'C1580',\n",
      "       'C1732', 'C1900', 'C1728', 'C6100', 'C8210', 'C1820', 'C2570', 'C2561',\n",
      "       'C1236', 'C1570', 'C4120', 'C3700', 'C1370', 'C2500', 'C1245'],\n",
      "      dtype='object')\n"
     ]
    }
   ],
   "source": [
    "# Look at CLASSIFICATION value counts for binning\n",
    "classification_df1= pd.DataFrame(application_df1['CLASSIFICATION'].value_counts())\n",
    "print(classification_df1.index)"
   ]
  },
  {
   "cell_type": "code",
   "execution_count": 9,
   "metadata": {
    "colab": {
     "base_uri": "https://localhost:8080/",
     "height": 450
    },
    "id": "ySFwe0GgIu04",
    "outputId": "89172761-509b-490a-ee93-435fbc726924"
   },
   "outputs": [
    {
     "data": {
      "text/html": [
       "<div>\n",
       "<style scoped>\n",
       "    .dataframe tbody tr th:only-of-type {\n",
       "        vertical-align: middle;\n",
       "    }\n",
       "\n",
       "    .dataframe tbody tr th {\n",
       "        vertical-align: top;\n",
       "    }\n",
       "\n",
       "    .dataframe thead th {\n",
       "        text-align: right;\n",
       "    }\n",
       "</style>\n",
       "<table border=\"1\" class=\"dataframe\">\n",
       "  <thead>\n",
       "    <tr style=\"text-align: right;\">\n",
       "      <th></th>\n",
       "      <th>CLASSIFICATION</th>\n",
       "    </tr>\n",
       "  </thead>\n",
       "  <tbody>\n",
       "    <tr>\n",
       "      <th>C1700</th>\n",
       "      <td>287.0</td>\n",
       "    </tr>\n",
       "    <tr>\n",
       "      <th>C4000</th>\n",
       "      <td>194.0</td>\n",
       "    </tr>\n",
       "    <tr>\n",
       "      <th>C5000</th>\n",
       "      <td>116.0</td>\n",
       "    </tr>\n",
       "    <tr>\n",
       "      <th>C1270</th>\n",
       "      <td>114.0</td>\n",
       "    </tr>\n",
       "    <tr>\n",
       "      <th>C2700</th>\n",
       "      <td>104.0</td>\n",
       "    </tr>\n",
       "    <tr>\n",
       "      <th>...</th>\n",
       "      <td>...</td>\n",
       "    </tr>\n",
       "    <tr>\n",
       "      <th>C4120</th>\n",
       "      <td>1.0</td>\n",
       "    </tr>\n",
       "    <tr>\n",
       "      <th>C3700</th>\n",
       "      <td>1.0</td>\n",
       "    </tr>\n",
       "    <tr>\n",
       "      <th>C1370</th>\n",
       "      <td>1.0</td>\n",
       "    </tr>\n",
       "    <tr>\n",
       "      <th>C2500</th>\n",
       "      <td>1.0</td>\n",
       "    </tr>\n",
       "    <tr>\n",
       "      <th>C1245</th>\n",
       "      <td>1.0</td>\n",
       "    </tr>\n",
       "  </tbody>\n",
       "</table>\n",
       "<p>65 rows × 1 columns</p>\n",
       "</div>"
      ],
      "text/plain": [
       "       CLASSIFICATION\n",
       "C1700           287.0\n",
       "C4000           194.0\n",
       "C5000           116.0\n",
       "C1270           114.0\n",
       "C2700           104.0\n",
       "...               ...\n",
       "C4120             1.0\n",
       "C3700             1.0\n",
       "C1370             1.0\n",
       "C2500             1.0\n",
       "C1245             1.0\n",
       "\n",
       "[65 rows x 1 columns]"
      ]
     },
     "execution_count": 9,
     "metadata": {},
     "output_type": "execute_result"
    }
   ],
   "source": [
    "# You may find it helpful to look at CLASSIFICATION value counts >1\n",
    "df = classification_df1\n",
    "\n",
    "df[df>1]\n",
    "\n",
    "df2 = df[df<330]\n",
    "\n",
    "df3 = df2.dropna()\n",
    "\n",
    "df3"
   ]
  },
  {
   "cell_type": "code",
   "execution_count": 10,
   "metadata": {
    "colab": {
     "base_uri": "https://localhost:8080/"
    },
    "id": "QUUjwTuoIu04",
    "outputId": "822d4c68-75c7-40f9-d4c2-94a9f49d22da"
   },
   "outputs": [
    {
     "data": {
      "text/plain": [
       "C1000    17326\n",
       "C2000     6074\n",
       "C1200     4837\n",
       "C3000     1918\n",
       "C2100     1883\n",
       "Other     1484\n",
       "C7000      777\n",
       "Name: CLASSIFICATION, dtype: int64"
      ]
     },
     "execution_count": 10,
     "metadata": {},
     "output_type": "execute_result"
    }
   ],
   "source": [
    "# Choose a cutoff value and create a list of classifications to be replaced\n",
    "# use the variable name `classifications_to_replace`\n",
    "# Will use the same logic here and go with the 1% rule of the dataset being the cutoff\n",
    "cutoff = 330\n",
    "classifications_to_replace = []\n",
    "#for cls in df:\n",
    "  #if cls < cutoff:\n",
    "    #classifications_to_replace.append(cls.index.values)\n",
    "    #print(cls)\n",
    "\n",
    "classifications_to_replace = df3.index.values\n",
    "classifications_to_replace\n",
    "# Replace in dataframe\n",
    "for cls in classifications_to_replace:\n",
    "    application_df1['CLASSIFICATION'] = application_df1['CLASSIFICATION'].replace(cls,\"Other\")\n",
    "   \n",
    "  \n",
    "# Check to make sure binning was successful\n",
    "application_df1['CLASSIFICATION'].value_counts()"
   ]
  },
  {
   "cell_type": "code",
   "execution_count": 11,
   "metadata": {
    "id": "zo4Uyl5OIu05"
   },
   "outputs": [],
   "source": [
    "# Convert categorical data to numeric with `pd.get_dummies`\n",
    "application_df2 = pd.get_dummies(application_df1)"
   ]
  },
  {
   "cell_type": "code",
   "execution_count": 12,
   "metadata": {
    "id": "d_Y6r0ynIu05"
   },
   "outputs": [],
   "source": [
    "# Split our preprocessed data into our features and target arrays\n",
    "y = application_df2['IS_SUCCESSFUL'].values\n",
    "X = application_df2.drop(['IS_SUCCESSFUL'],1).values\n",
    "\n",
    "# Split the preprocessed data into a training and testing dataset\n",
    "X_train, X_test, y_train, y_test = train_test_split(X, y, random_state=78)"
   ]
  },
  {
   "cell_type": "code",
   "execution_count": 13,
   "metadata": {
    "id": "eQqLtL9OIu06"
   },
   "outputs": [],
   "source": [
    "# Create a StandardScaler instances\n",
    "scaler = StandardScaler()\n",
    "\n",
    "# Fit the StandardScaler\n",
    "X_scaler = scaler.fit(X_train)\n",
    "\n",
    "# Scale the data\n",
    "X_train_scaled = X_scaler.transform(X_train)\n",
    "X_test_scaled = X_scaler.transform(X_test)"
   ]
  },
  {
   "cell_type": "markdown",
   "metadata": {
    "id": "rFBV8r9PIu06"
   },
   "source": [
    "## Compile, Train and Evaluate the Model\n",
    "## In this optimization I will be adding a 3rd layer to the neural network and using 16, 8, and 10 nodes"
   ]
  },
  {
   "cell_type": "code",
   "execution_count": 14,
   "metadata": {
    "colab": {
     "base_uri": "https://localhost:8080/"
    },
    "id": "FOAwqM9vIu06",
    "outputId": "7746171d-00a7-424d-b0ad-e4e8a902231c"
   },
   "outputs": [
    {
     "name": "stdout",
     "output_type": "stream",
     "text": [
      "Model: \"sequential\"\n",
      "_________________________________________________________________\n",
      "Layer (type)                 Output Shape              Param #   \n",
      "=================================================================\n",
      "dense (Dense)                (None, 40)                1840      \n",
      "_________________________________________________________________\n",
      "dense_1 (Dense)              (None, 20)                820       \n",
      "_________________________________________________________________\n",
      "dense_2 (Dense)              (None, 1)                 21        \n",
      "=================================================================\n",
      "Total params: 2,681\n",
      "Trainable params: 2,681\n",
      "Non-trainable params: 0\n",
      "_________________________________________________________________\n"
     ]
    }
   ],
   "source": [
    "# Define the model - deep neural net, i.e., the number of input features and hidden nodes for each layer.\n",
    "number_input_features = len(X_train[0])\n",
    "hidden_nodes_layer1 =  16\n",
    "hidden_nodes_layer2 = 8\n",
    "hidden_nodes_layer3 = 10\n",
    "\n",
    "nn = tf.keras.models.Sequential()\n",
    "\n",
    "# First hidden layer\n",
    "nn.add(\n",
    "    tf.keras.layers.Dense(units=hidden_nodes_layer1, input_dim=number_input_features, activation=\"relu\")\n",
    ")\n",
    "\n",
    "# Second hidden layer\n",
    "nn.add(tf.keras.layers.Dense(units=hidden_nodes_layer2, activation=\"relu\"))\n",
    "\n",
    "# Third hidden layer\n",
    "nn.add(tf.keras.layers.Dense(units=hidden_nodes_layer3, activation=\"relu\"))\n",
    "\n",
    "# Output layer\n",
    "nn.add(tf.keras.layers.Dense(units=1, activation=\"sigmoid\"))\n",
    "\n",
    "# Check the structure of the model\n",
    "nn.summary()"
   ]
  },
  {
   "cell_type": "code",
   "execution_count": 15,
   "metadata": {
    "id": "6CQPMqLHIu07"
   },
   "outputs": [],
   "source": [
    "# Compile the model\n",
    "nn.compile(loss=\"binary_crossentropy\", optimizer=\"adam\", metrics=[\"accuracy\"])"
   ]
  },
  {
   "cell_type": "code",
   "execution_count": 16,
   "metadata": {
    "colab": {
     "base_uri": "https://localhost:8080/"
    },
    "id": "5JRCELFsIu07",
    "outputId": "1cf1640e-a19f-436c-d304-ed91aaabf80e"
   },
   "outputs": [
    {
     "name": "stdout",
     "output_type": "stream",
     "text": [
      "Epoch 1/100\n",
      "804/804 [==============================] - 1s 635us/step - loss: 0.5709 - accuracy: 0.7197\n",
      "Epoch 2/100\n",
      "804/804 [==============================] - 0s 545us/step - loss: 0.5539 - accuracy: 0.7321\n",
      "Epoch 3/100\n",
      "804/804 [==============================] - 0s 550us/step - loss: 0.5510 - accuracy: 0.7309\n",
      "Epoch 4/100\n",
      "804/804 [==============================] - 0s 552us/step - loss: 0.5501 - accuracy: 0.7331\n",
      "Epoch 5/100\n",
      "804/804 [==============================] - 1s 630us/step - loss: 0.5491 - accuracy: 0.7332\n",
      "Epoch 6/100\n",
      "804/804 [==============================] - 0s 536us/step - loss: 0.5482 - accuracy: 0.7335\n",
      "Epoch 7/100\n",
      "804/804 [==============================] - 0s 528us/step - loss: 0.5476 - accuracy: 0.7332\n",
      "Epoch 8/100\n",
      "804/804 [==============================] - 1s 648us/step - loss: 0.5466 - accuracy: 0.7326\n",
      "Epoch 9/100\n",
      "804/804 [==============================] - 0s 524us/step - loss: 0.5461 - accuracy: 0.7334\n",
      "Epoch 10/100\n",
      "804/804 [==============================] - 1s 637us/step - loss: 0.5457 - accuracy: 0.7337\n",
      "Epoch 11/100\n",
      "804/804 [==============================] - 0s 561us/step - loss: 0.5454 - accuracy: 0.7347\n",
      "Epoch 12/100\n",
      "804/804 [==============================] - 0s 593us/step - loss: 0.5446 - accuracy: 0.7346\n",
      "Epoch 13/100\n",
      "804/804 [==============================] - 0s 579us/step - loss: 0.5451 - accuracy: 0.7350\n",
      "Epoch 14/100\n",
      "804/804 [==============================] - 0s 547us/step - loss: 0.5444 - accuracy: 0.7354\n",
      "Epoch 15/100\n",
      "804/804 [==============================] - 0s 550us/step - loss: 0.5438 - accuracy: 0.7349\n",
      "Epoch 16/100\n",
      "804/804 [==============================] - 0s 519us/step - loss: 0.5437 - accuracy: 0.7357\n",
      "Epoch 17/100\n",
      "804/804 [==============================] - 1s 754us/step - loss: 0.5431 - accuracy: 0.7359\n",
      "Epoch 18/100\n",
      "804/804 [==============================] - 1s 658us/step - loss: 0.5427 - accuracy: 0.7356\n",
      "Epoch 19/100\n",
      "804/804 [==============================] - 1s 723us/step - loss: 0.5425 - accuracy: 0.7364\n",
      "Epoch 20/100\n",
      "804/804 [==============================] - 1s 702us/step - loss: 0.5428 - accuracy: 0.7371\n",
      "Epoch 21/100\n",
      "804/804 [==============================] - 0s 588us/step - loss: 0.5423 - accuracy: 0.7367\n",
      "Epoch 22/100\n",
      "804/804 [==============================] - 0s 596us/step - loss: 0.5423 - accuracy: 0.7366\n",
      "Epoch 23/100\n",
      "804/804 [==============================] - 0s 527us/step - loss: 0.5419 - accuracy: 0.7370\n",
      "Epoch 24/100\n",
      "804/804 [==============================] - 0s 560us/step - loss: 0.5413 - accuracy: 0.7380\n",
      "Epoch 25/100\n",
      "804/804 [==============================] - 0s 530us/step - loss: 0.5414 - accuracy: 0.7372\n",
      "Epoch 26/100\n",
      "804/804 [==============================] - 1s 640us/step - loss: 0.5416 - accuracy: 0.7365\n",
      "Epoch 27/100\n",
      "804/804 [==============================] - 1s 639us/step - loss: 0.5409 - accuracy: 0.7376\n",
      "Epoch 28/100\n",
      "804/804 [==============================] - 0s 536us/step - loss: 0.5410 - accuracy: 0.7377\n",
      "Epoch 29/100\n",
      "804/804 [==============================] - 1s 669us/step - loss: 0.5411 - accuracy: 0.7372\n",
      "Epoch 30/100\n",
      "804/804 [==============================] - 1s 667us/step - loss: 0.5407 - accuracy: 0.7379\n",
      "Epoch 31/100\n",
      "804/804 [==============================] - 0s 610us/step - loss: 0.5404 - accuracy: 0.7371\n",
      "Epoch 32/100\n",
      "804/804 [==============================] - 1s 647us/step - loss: 0.5407 - accuracy: 0.7376\n",
      "Epoch 33/100\n",
      "804/804 [==============================] - 0s 603us/step - loss: 0.5401 - accuracy: 0.7380\n",
      "Epoch 34/100\n",
      "804/804 [==============================] - 0s 557us/step - loss: 0.5407 - accuracy: 0.7384\n",
      "Epoch 35/100\n",
      "804/804 [==============================] - 0s 574us/step - loss: 0.5404 - accuracy: 0.7378\n",
      "Epoch 36/100\n",
      "804/804 [==============================] - 1s 642us/step - loss: 0.5403 - accuracy: 0.7380\n",
      "Epoch 37/100\n",
      "804/804 [==============================] - 0s 559us/step - loss: 0.5401 - accuracy: 0.7380\n",
      "Epoch 38/100\n",
      "804/804 [==============================] - 0s 579us/step - loss: 0.5399 - accuracy: 0.7389\n",
      "Epoch 39/100\n",
      "804/804 [==============================] - 1s 677us/step - loss: 0.5399 - accuracy: 0.7381\n",
      "Epoch 40/100\n",
      "804/804 [==============================] - 0s 607us/step - loss: 0.5397 - accuracy: 0.7381\n",
      "Epoch 41/100\n",
      "804/804 [==============================] - 0s 610us/step - loss: 0.5394 - accuracy: 0.7389\n",
      "Epoch 42/100\n",
      "804/804 [==============================] - 0s 595us/step - loss: 0.5395 - accuracy: 0.7383\n",
      "Epoch 43/100\n",
      "804/804 [==============================] - 0s 610us/step - loss: 0.5391 - accuracy: 0.7377\n",
      "Epoch 44/100\n",
      "804/804 [==============================] - 0s 604us/step - loss: 0.5392 - accuracy: 0.7386\n",
      "Epoch 45/100\n",
      "804/804 [==============================] - 0s 605us/step - loss: 0.5390 - accuracy: 0.7393\n",
      "Epoch 46/100\n",
      "804/804 [==============================] - 0s 605us/step - loss: 0.5392 - accuracy: 0.7380\n",
      "Epoch 47/100\n",
      "804/804 [==============================] - 1s 657us/step - loss: 0.5393 - accuracy: 0.7405\n",
      "Epoch 48/100\n",
      "804/804 [==============================] - 0s 606us/step - loss: 0.5388 - accuracy: 0.7385\n",
      "Epoch 49/100\n",
      "804/804 [==============================] - 0s 595us/step - loss: 0.5387 - accuracy: 0.7388\n",
      "Epoch 50/100\n",
      "804/804 [==============================] - 0s 599us/step - loss: 0.5388 - accuracy: 0.7385\n",
      "Epoch 51/100\n",
      "804/804 [==============================] - 0s 616us/step - loss: 0.5386 - accuracy: 0.7388\n",
      "Epoch 52/100\n",
      "804/804 [==============================] - 0s 599us/step - loss: 0.5387 - accuracy: 0.7385\n",
      "Epoch 53/100\n",
      "804/804 [==============================] - 0s 602us/step - loss: 0.5386 - accuracy: 0.7394\n",
      "Epoch 54/100\n",
      "804/804 [==============================] - 0s 563us/step - loss: 0.5381 - accuracy: 0.7386\n",
      "Epoch 55/100\n",
      "804/804 [==============================] - 0s 583us/step - loss: 0.5385 - accuracy: 0.7392\n",
      "Epoch 56/100\n",
      "804/804 [==============================] - 0s 579us/step - loss: 0.5386 - accuracy: 0.7386\n",
      "Epoch 57/100\n",
      "804/804 [==============================] - 1s 629us/step - loss: 0.5383 - accuracy: 0.7391\n",
      "Epoch 58/100\n",
      "804/804 [==============================] - 1s 628us/step - loss: 0.5381 - accuracy: 0.7395\n",
      "Epoch 59/100\n",
      "804/804 [==============================] - 0s 575us/step - loss: 0.5381 - accuracy: 0.7389\n",
      "Epoch 60/100\n",
      "804/804 [==============================] - 0s 577us/step - loss: 0.5379 - accuracy: 0.7390\n",
      "Epoch 61/100\n",
      "804/804 [==============================] - 0s 577us/step - loss: 0.5379 - accuracy: 0.7378\n",
      "Epoch 62/100\n",
      "804/804 [==============================] - 0s 571us/step - loss: 0.5377 - accuracy: 0.7388\n",
      "Epoch 63/100\n",
      "804/804 [==============================] - 0s 577us/step - loss: 0.5379 - accuracy: 0.7390\n",
      "Epoch 64/100\n",
      "804/804 [==============================] - 0s 575us/step - loss: 0.5376 - accuracy: 0.7402\n",
      "Epoch 65/100\n",
      "804/804 [==============================] - 0s 573us/step - loss: 0.5373 - accuracy: 0.7392\n",
      "Epoch 66/100\n",
      "804/804 [==============================] - 0s 601us/step - loss: 0.5374 - accuracy: 0.7395\n",
      "Epoch 67/100\n",
      "804/804 [==============================] - 0s 578us/step - loss: 0.5373 - accuracy: 0.7402\n",
      "Epoch 68/100\n",
      "804/804 [==============================] - 1s 638us/step - loss: 0.5372 - accuracy: 0.7396\n",
      "Epoch 69/100\n",
      "804/804 [==============================] - 0s 579us/step - loss: 0.5369 - accuracy: 0.7385\n",
      "Epoch 70/100\n",
      "804/804 [==============================] - 0s 581us/step - loss: 0.5378 - accuracy: 0.7393\n",
      "Epoch 71/100\n",
      "804/804 [==============================] - 0s 576us/step - loss: 0.5369 - accuracy: 0.7398\n",
      "Epoch 72/100\n",
      "804/804 [==============================] - 0s 597us/step - loss: 0.5369 - accuracy: 0.7391\n",
      "Epoch 73/100\n",
      "804/804 [==============================] - 0s 564us/step - loss: 0.5373 - accuracy: 0.7393\n",
      "Epoch 74/100\n",
      "804/804 [==============================] - 0s 590us/step - loss: 0.5368 - accuracy: 0.7395\n",
      "Epoch 75/100\n",
      "804/804 [==============================] - 1s 625us/step - loss: 0.5370 - accuracy: 0.7395\n",
      "Epoch 76/100\n",
      "804/804 [==============================] - 0s 577us/step - loss: 0.5368 - accuracy: 0.7402\n",
      "Epoch 77/100\n",
      "804/804 [==============================] - 1s 627us/step - loss: 0.5371 - accuracy: 0.7387\n",
      "Epoch 78/100\n",
      "804/804 [==============================] - 0s 572us/step - loss: 0.5367 - accuracy: 0.7406\n",
      "Epoch 79/100\n",
      "804/804 [==============================] - 0s 620us/step - loss: 0.5368 - accuracy: 0.7395\n",
      "Epoch 80/100\n",
      "804/804 [==============================] - 0s 588us/step - loss: 0.5366 - accuracy: 0.7403\n",
      "Epoch 81/100\n",
      "804/804 [==============================] - 0s 592us/step - loss: 0.5367 - accuracy: 0.7401\n",
      "Epoch 82/100\n",
      "804/804 [==============================] - 0s 565us/step - loss: 0.5371 - accuracy: 0.7403\n",
      "Epoch 83/100\n",
      "804/804 [==============================] - 0s 588us/step - loss: 0.5368 - accuracy: 0.7399\n",
      "Epoch 84/100\n",
      "804/804 [==============================] - 0s 607us/step - loss: 0.5366 - accuracy: 0.7397\n",
      "Epoch 85/100\n",
      "804/804 [==============================] - 0s 583us/step - loss: 0.5364 - accuracy: 0.7402\n",
      "Epoch 86/100\n",
      "804/804 [==============================] - 0s 592us/step - loss: 0.5364 - accuracy: 0.7400\n",
      "Epoch 87/100\n",
      "804/804 [==============================] - 0s 589us/step - loss: 0.5365 - accuracy: 0.7399\n",
      "Epoch 88/100\n",
      "804/804 [==============================] - 0s 585us/step - loss: 0.5364 - accuracy: 0.7411\n",
      "Epoch 89/100\n",
      "804/804 [==============================] - 0s 587us/step - loss: 0.5368 - accuracy: 0.7398\n",
      "Epoch 90/100\n",
      "804/804 [==============================] - 0s 582us/step - loss: 0.5363 - accuracy: 0.7403\n",
      "Epoch 91/100\n",
      "804/804 [==============================] - 0s 616us/step - loss: 0.5360 - accuracy: 0.7396\n",
      "Epoch 92/100\n",
      "804/804 [==============================] - 0s 585us/step - loss: 0.5363 - accuracy: 0.7393\n",
      "Epoch 93/100\n",
      "804/804 [==============================] - 0s 584us/step - loss: 0.5360 - accuracy: 0.7406\n",
      "Epoch 94/100\n",
      "804/804 [==============================] - 0s 579us/step - loss: 0.5363 - accuracy: 0.7407\n",
      "Epoch 95/100\n",
      "804/804 [==============================] - 1s 697us/step - loss: 0.5364 - accuracy: 0.7401\n",
      "Epoch 96/100\n",
      "804/804 [==============================] - 0s 605us/step - loss: 0.5360 - accuracy: 0.7409\n",
      "Epoch 97/100\n",
      "804/804 [==============================] - 1s 932us/step - loss: 0.5361 - accuracy: 0.7397\n",
      "Epoch 98/100\n",
      "804/804 [==============================] - 1s 1ms/step - loss: 0.5362 - accuracy: 0.7402\n",
      "Epoch 99/100\n",
      "804/804 [==============================] - 1s 676us/step - loss: 0.5356 - accuracy: 0.7396\n",
      "Epoch 100/100\n",
      "804/804 [==============================] - 0s 594us/step - loss: 0.5360 - accuracy: 0.7402\n"
     ]
    }
   ],
   "source": [
    "# Train the model\n",
    "fit_model = nn.fit(X_train_scaled,y_train,epochs=100)"
   ]
  },
  {
   "cell_type": "code",
   "execution_count": 19,
   "metadata": {
    "colab": {
     "base_uri": "https://localhost:8080/"
    },
    "id": "fL817IGiIu07",
    "outputId": "093584f1-e006-446d-8ee6-3e569a58910d"
   },
   "outputs": [
    {
     "name": "stdout",
     "output_type": "stream",
     "text": [
      "268/268 - 0s - loss: 0.5538 - accuracy: 0.7257\n",
      "Loss: 0.5538325309753418, Accuracy: 0.7257142663002014\n"
     ]
    }
   ],
   "source": [
    "# Evaluate the model using the test data\n",
    "model_loss, model_accuracy = nn.evaluate(X_test_scaled,y_test,verbose=2)\n",
    "print(f\"Loss: {model_loss}, Accuracy: {model_accuracy}\")"
   ]
  },
  {
   "cell_type": "code",
   "execution_count": 20,
   "metadata": {
    "colab": {
     "base_uri": "https://localhost:8080/",
     "height": 180
    },
    "id": "XktWg_vnIu08",
    "outputId": "05e71e1a-be8f-4f37-86aa-c0fb97590cab"
   },
   "outputs": [],
   "source": [
    "# Export our model to HDF5 file\n",
    "nn.save(\"AlphabetSoupCharity2.h5\")"
   ]
  }
 ],
 "metadata": {
  "colab": {
   "name": "Charity_Predictor_Model1.ipynb",
   "provenance": []
  },
  "interpreter": {
   "hash": "2f3a706b34eb0ea9bbb028628723f5cd93895146db5a4b3f252e9288b7f6741a"
  },
  "kernelspec": {
   "display_name": "Python 3",
   "language": "python",
   "name": "python3"
  },
  "language_info": {
   "codemirror_mode": {
    "name": "ipython",
    "version": 3
   },
   "file_extension": ".py",
   "mimetype": "text/x-python",
   "name": "python",
   "nbconvert_exporter": "python",
   "pygments_lexer": "ipython3",
   "version": "3.8.8"
  }
 },
 "nbformat": 4,
 "nbformat_minor": 1
}
